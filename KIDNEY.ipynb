{
 "cells": [
  {
   "cell_type": "code",
   "execution_count": 1,
   "id": "4c70da87-dbd7-4646-bc1a-bb905aa8ba4d",
   "metadata": {},
   "outputs": [
    {
     "name": "stdout",
     "output_type": "stream",
     "text": [
      "Missing Values After Cleaning:\n",
      " age               0\n",
      "bp                0\n",
      "sg                0\n",
      "al                0\n",
      "su                0\n",
      "rbc               0\n",
      "pc                0\n",
      "bgr               0\n",
      "bu                0\n",
      "sc                0\n",
      "sod               0\n",
      "pot               0\n",
      "hemo              0\n",
      "pcv               0\n",
      "wc                0\n",
      "rc                0\n",
      "htn               0\n",
      "dm                0\n",
      "cad               0\n",
      "appet             0\n",
      "pe                0\n",
      "ane               0\n",
      "classification    0\n",
      "dtype: int64\n"
     ]
    }
   ],
   "source": [
    "import pandas as pd\n",
    "import numpy as np\n",
    "from sklearn.model_selection import train_test_split\n",
    "from sklearn.preprocessing import StandardScaler\n",
    "from imblearn.over_sampling import SMOTE\n",
    "from xgboost import XGBClassifier\n",
    "from sklearn.metrics import accuracy_score, classification_report\n",
    "\n",
    "# 📌 Step 1: Load the dataset\n",
    "kidney_df = pd.read_csv(\"kidney_disease1.csv\")\n",
    "\n",
    "# 📌 Step 2: Drop unnecessary columns\n",
    "kidney_df.drop(columns=['id'], inplace=True, errors='ignore')\n",
    "\n",
    "# 📌 Step 3: Convert categorical labels to binary\n",
    "kidney_df['classification'] = kidney_df['classification'].map({'ckd': 1, 'notckd': 0})\n",
    "\n",
    "# 📌 Step 4: Convert Yes/No categorical values into binary (1 = Yes, 0 = No)\n",
    "binary_cols = ['htn', 'dm', 'cad', 'pcc', 'ba', 'pe', 'ane']\n",
    "for col in binary_cols:\n",
    "    kidney_df[col] = kidney_df[col].map({'yes': 1, 'no': 0})\n",
    "\n",
    "# 📌 Step 5: Convert categorical variables into numerical values\n",
    "kidney_df['appet'] = kidney_df['appet'].map({'good': 1, 'poor': 0})\n",
    "kidney_df['rbc'] = kidney_df['rbc'].map({'abnormal': 1, 'normal': 0})\n",
    "kidney_df['pc'] = kidney_df['pc'].map({'abnormal': 1, 'normal': 0})\n",
    "\n",
    "# 📌 Step 6: Convert 'pcv', 'wc', 'rc' to numeric\n",
    "kidney_df[['pcv', 'wc', 'rc']] = kidney_df[['pcv', 'wc', 'rc']].apply(pd.to_numeric, errors='coerce')\n",
    "\n",
    "# 📌 Step 7: Fill missing values\n",
    "# Fill numerical columns with median\n",
    "num_cols = ['age', 'bp', 'sg', 'al', 'su', 'bgr', 'bu', 'sc', 'sod', 'pot', 'hemo', 'pcv', 'wc', 'rc']\n",
    "kidney_df[num_cols] = kidney_df[num_cols].apply(lambda x: x.fillna(x.median()))\n",
    "\n",
    "# Fill categorical columns with mode\n",
    "cat_cols = ['htn', 'dm', 'cad', 'appet', 'pe', 'ane']\n",
    "kidney_df[cat_cols] = kidney_df[cat_cols].apply(lambda x: x.fillna(x.mode()[0]))\n",
    "\n",
    "# Fill missing values in 'rbc' and 'pc' with mode\n",
    "kidney_df['rbc'].fillna(kidney_df['rbc'].mode()[0], inplace=True)\n",
    "kidney_df['pc'].fillna(kidney_df['pc'].mode()[0], inplace=True)\n",
    "\n",
    "# 📌 Step 8: Drop 'pcc' and 'ba' (entirely missing)\n",
    "kidney_df.drop(columns=['pcc', 'ba'], inplace=True, errors='ignore')\n",
    "\n",
    "# Verify there are no missing values left\n",
    "# Fill missing values in the classification column\n",
    "kidney_df['classification'].fillna(kidney_df['classification'].mode()[0], inplace=True)\n",
    "\n",
    "# Verify again that no missing values exist\n",
    "print(\"Missing Values After Cleaning:\\n\", kidney_df.isnull().sum())\n"
   ]
  },
  {
   "cell_type": "code",
   "execution_count": 2,
   "id": "7c51597c-33c7-4cf6-a238-d8173cdbd02d",
   "metadata": {},
   "outputs": [],
   "source": [
    "# Define features (X) and target variable (y)\n",
    "X_kidney = kidney_df.drop(columns=['classification'])  # All columns except target\n",
    "y_kidney = kidney_df['classification']  # Target column\n"
   ]
  },
  {
   "cell_type": "code",
   "execution_count": 3,
   "id": "991cde23-63e7-4343-ba7d-19e2e2072d4d",
   "metadata": {},
   "outputs": [],
   "source": [
    "X_train_kidney, X_test_kidney, y_train_kidney, y_test_kidney = train_test_split(\n",
    "    X_kidney, y_kidney, test_size=0.2, random_state=42\n",
    ")"
   ]
  },
  {
   "cell_type": "code",
   "execution_count": 4,
   "id": "a2fe7d56-0655-470f-8cb6-3880bf125530",
   "metadata": {},
   "outputs": [],
   "source": [
    "# Initialize StandardScaler\n",
    "scaler = StandardScaler()\n",
    "\n",
    "# Fit-transform training data, transform test data\n",
    "X_train_kidney = pd.DataFrame(scaler.fit_transform(X_train_kidney), columns=X_train_kidney.columns)\n",
    "X_test_kidney = pd.DataFrame(scaler.transform(X_test_kidney), columns=X_test_kidney.columns)"
   ]
  },
  {
   "cell_type": "code",
   "execution_count": 5,
   "id": "95ec41c8-6f2f-437a-bfff-61681bfa6e09",
   "metadata": {},
   "outputs": [
    {
     "name": "stdout",
     "output_type": "stream",
     "text": [
      "Balanced Class Distribution:\n",
      " classification\n",
      "1.0    198\n",
      "0.0    198\n",
      "Name: count, dtype: int64\n"
     ]
    }
   ],
   "source": [
    "# Initialize SMOTE\n",
    "smote = SMOTE(random_state=42)\n",
    "X_train_kidney_balanced, y_train_kidney_balanced = smote.fit_resample(X_train_kidney, y_train_kidney)\n",
    "\n",
    "# Check new class distribution\n",
    "print(\"Balanced Class Distribution:\\n\", y_train_kidney_balanced.value_counts())"
   ]
  },
  {
   "cell_type": "code",
   "execution_count": 6,
   "id": "09ac6128-1bd6-434e-ba24-dd858e8a17b0",
   "metadata": {},
   "outputs": [
    {
     "name": "stdout",
     "output_type": "stream",
     "text": [
      "Model Accuracy: 0.9875\n",
      "Classification Report:\n",
      "               precision    recall  f1-score   support\n",
      "\n",
      "         0.0       0.97      1.00      0.98        28\n",
      "         1.0       1.00      0.98      0.99        52\n",
      "\n",
      "    accuracy                           0.99        80\n",
      "   macro avg       0.98      0.99      0.99        80\n",
      "weighted avg       0.99      0.99      0.99        80\n",
      "\n"
     ]
    }
   ],
   "source": [
    "# Initialize XGBoost Classifier\n",
    "xgb_kidney = XGBClassifier(n_estimators=100, learning_rate=0.05, max_depth=3, random_state=42)\n",
    "\n",
    "# Train the model\n",
    "xgb_kidney.fit(X_train_kidney_balanced, y_train_kidney_balanced)\n",
    "\n",
    "# Predict on test data\n",
    "y_pred_kidney = xgb_kidney.predict(X_test_kidney)\n",
    "\n",
    "# Evaluate the model\n",
    "from sklearn.metrics import accuracy_score, classification_report\n",
    "\n",
    "print(\"Model Accuracy:\", accuracy_score(y_test_kidney, y_pred_kidney))\n",
    "print(\"Classification Report:\\n\", classification_report(y_test_kidney, y_pred_kidney))\n"
   ]
  },
  {
   "cell_type": "code",
   "execution_count": 7,
   "id": "19b88236-1b35-4dfb-815c-1d3c89dcd1ad",
   "metadata": {},
   "outputs": [
    {
     "name": "stdout",
     "output_type": "stream",
     "text": [
      "Final Features Used for Training: ['age', 'bp', 'sg', 'al', 'su', 'rbc', 'pc', 'bgr', 'bu', 'sc', 'sod', 'pot', 'hemo', 'pcv', 'wc', 'rc', 'htn', 'dm', 'cad', 'appet', 'pe', 'ane']\n",
      "Number of Features in Training Data: 22\n"
     ]
    }
   ],
   "source": [
    "print(\"Final Features Used for Training:\", X_kidney.columns.tolist())\n",
    "print(\"Number of Features in Training Data:\", len(X_kidney.columns))\n"
   ]
  },
  {
   "cell_type": "code",
   "execution_count": 8,
   "id": "01d9b0c4-e99b-4127-acbb-a907b1386d3e",
   "metadata": {},
   "outputs": [
    {
     "name": "stdout",
     "output_type": "stream",
     "text": [
      "✅ Final Kidney Disease Prediction: 0\n"
     ]
    }
   ],
   "source": [
    "import pandas as pd\n",
    "import numpy as np\n",
    "\n",
    "# Ensure test input matches exactly with the 22 training features\n",
    "test_input_values = [\n",
    "    30,    # Age\n",
    "    120,   # Blood Pressure (Normal: 120/80)\n",
    "    1.020, # Specific Gravity (Normal Range: 1.015 - 1.025)\n",
    "    0,     # Albumin (No protein leakage)\n",
    "    0,     # Sugar (No sugar in urine)\n",
    "    0,     # RBC (Normal)\n",
    "    0,     # Pus Cells (Normal)\n",
    "    100,   # **BGR (Blood Glucose Random) - Healthy: 80-120**\n",
    "    15,    # Blood Urea (Healthy: < 20)\n",
    "    0.8,   # Serum Creatinine (Healthy: 0.6 - 1.2)\n",
    "    140,   # Sodium (Healthy: 135-145)\n",
    "    4.5,   # Potassium (Healthy: 3.5-5.0)\n",
    "    15,    # Hemoglobin (Normal Range: 12-17)\n",
    "    42,    # Packed Cell Volume (Normal: 40-50)\n",
    "    9000,  # WBC Count (Normal: 4000-11000)\n",
    "    5.2,   # RBC Count (Healthy: 4.7-6.1)\n",
    "    0,     # Hypertension (No)\n",
    "    0,     # Diabetes Mellitus (No)\n",
    "    0,     # Coronary Artery Disease (No)\n",
    "    1,     # Appetite (Good)\n",
    "    0,     # Pedal Edema (No)\n",
    "    0      # Anemia (No)\n",
    "]\n",
    "\n",
    "# Convert to DataFrame with correct column names\n",
    "test_input_df = pd.DataFrame([test_input_values], columns=X_kidney.columns)\n",
    "\n",
    "# Scale test input\n",
    "test_input_scaled = scaler.transform(test_input_df)\n",
    "\n",
    "# Predict probability\n",
    "prob = xgb_kidney.predict_proba(test_input_scaled)[0]\n",
    "\n",
    "# Adjust threshold (Only predict `1` if probability > 0.6)\n",
    "prediction = 1 if prob[1] > 0.6 else 0\n",
    "\n",
    "print(\"✅ Final Kidney Disease Prediction:\", prediction)  # Expected: 0\n"
   ]
  },
  {
   "cell_type": "code",
   "execution_count": 9,
   "id": "d0fe9e7c-b45d-4073-9a68-3b3767698a78",
   "metadata": {},
   "outputs": [
    {
     "name": "stdout",
     "output_type": "stream",
     "text": [
      "✅ Final Kidney Disease Prediction: 1\n"
     ]
    }
   ],
   "source": [
    "import pandas as pd\n",
    "import numpy as np\n",
    "\n",
    "# Ensure test input matches exactly with the 22 training features\n",
    "test_input_values = [\n",
    "    65,     # Age (Older individuals are more prone)\n",
    "    150,    # Blood Pressure (High BP is a risk factor)\n",
    "    1.010,  # Specific Gravity (Lower values indicate kidney issues)\n",
    "    3,      # Albumin (Higher values suggest kidney damage)\n",
    "    2,      # Sugar (Presence of sugar can indicate problems)\n",
    "    1,      # RBC (Abnormal RBC count)\n",
    "    1,      # Pus Cells (Abnormal)\n",
    "    180,    # **Blood Glucose Random (High, common in diabetes & CKD)**\n",
    "    120,    # Blood Urea (Very high, normal < 20)\n",
    "    4.5,    # Serum Creatinine (High, normal ~0.6-1.2)\n",
    "    125,    # Sodium (Lower sodium indicates kidney dysfunction)\n",
    "    6.0,    # Potassium (Elevated potassium is a red flag)\n",
    "    9.0,    # Hemoglobin (Low hemoglobin is common in CKD)\n",
    "    30,     # Packed Cell Volume (Low PCV is a sign of CKD)\n",
    "    6000,   # WBC Count (Lower than usual)\n",
    "    3.5,    # RBC Count (Lower than normal ~4.7-6.1)\n",
    "    1,      # Hypertension (Yes, common in CKD patients)\n",
    "    1,      # Diabetes Mellitus (Yes, a risk factor)\n",
    "    1,      # Coronary Artery Disease (Yes, another risk factor)\n",
    "    0,      # Appetite (Poor)\n",
    "    1,      # Pedal Edema (Yes, common in CKD)\n",
    "    1       # Anemia (Yes, common in CKD)\n",
    "]\n",
    "\n",
    "# Convert to DataFrame with correct column names\n",
    "test_input_df = pd.DataFrame([test_input_values], columns=X_kidney.columns)\n",
    "\n",
    "# Scale test input\n",
    "test_input_scaled = scaler.transform(test_input_df)\n",
    "\n",
    "# Predict probability\n",
    "prob = xgb_kidney.predict_proba(test_input_scaled)[0]\n",
    "\n",
    "# Adjust threshold (Only predict `1` if probability > 0.6)\n",
    "prediction = 1 if prob[1] > 0.6 else 0\n",
    "\n",
    "print(\"✅ Final Kidney Disease Prediction:\", prediction)  # Expected: 1\n"
   ]
  },
  {
   "cell_type": "code",
   "execution_count": 10,
   "id": "655df1df-839d-4d88-a09e-15c5a5908855",
   "metadata": {},
   "outputs": [
    {
     "name": "stdout",
     "output_type": "stream",
     "text": [
      "✅ Model saved as 'kidney_disease_model.joblib'\n"
     ]
    }
   ],
   "source": [
    "import joblib\n",
    "\n",
    "# Save the trained model\n",
    "joblib.dump(xgb_kidney, \"kidney_disease_model.joblib\")\n",
    "\n",
    "print(\"✅ Model saved as 'kidney_disease_model.joblib'\")\n"
   ]
  },
  {
   "cell_type": "code",
   "execution_count": null,
   "id": "5194cdd4-d93a-4ec2-9dbd-146a7251b820",
   "metadata": {},
   "outputs": [],
   "source": []
  }
 ],
 "metadata": {
  "kernelspec": {
   "display_name": "Python 3 (ipykernel)",
   "language": "python",
   "name": "python3"
  },
  "language_info": {
   "codemirror_mode": {
    "name": "ipython",
    "version": 3
   },
   "file_extension": ".py",
   "mimetype": "text/x-python",
   "name": "python",
   "nbconvert_exporter": "python",
   "pygments_lexer": "ipython3",
   "version": "3.11.7"
  }
 },
 "nbformat": 4,
 "nbformat_minor": 5
}
